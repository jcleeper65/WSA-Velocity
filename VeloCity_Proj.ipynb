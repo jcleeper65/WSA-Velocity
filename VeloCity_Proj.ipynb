{
 "cells": [
  {
   "cell_type": "code",
   "execution_count": 64,
   "id": "5645e911-9545-40ed-9091-689824bb0900",
   "metadata": {},
   "outputs": [],
   "source": [
    "import numpy as np\n",
    "import pandas as pd\n",
    "import matplotlib.pyplot as plt\n",
    "from sklearn.linear_model import LinearRegression\n",
    "from sklearn.cluster import KMeans\n",
    "from sklearn.preprocessing import StandardScaler"
   ]
  },
  {
   "cell_type": "code",
   "execution_count": 122,
   "id": "8bed8451-134b-4ccb-9536-b03199a99788",
   "metadata": {},
   "outputs": [
    {
     "data": {
      "text/html": [
       "<div>\n",
       "<style scoped>\n",
       "    .dataframe tbody tr th:only-of-type {\n",
       "        vertical-align: middle;\n",
       "    }\n",
       "\n",
       "    .dataframe tbody tr th {\n",
       "        vertical-align: top;\n",
       "    }\n",
       "\n",
       "    .dataframe thead th {\n",
       "        text-align: right;\n",
       "    }\n",
       "</style>\n",
       "<table border=\"1\" class=\"dataframe\">\n",
       "  <thead>\n",
       "    <tr style=\"text-align: right;\">\n",
       "      <th></th>\n",
       "      <th>User ID</th>\n",
       "      <th>Fan Challenges Completed</th>\n",
       "      <th>Predictive Accuracy (%)</th>\n",
       "      <th>Virtual Merchandise Purchases</th>\n",
       "      <th>Sponsorship Interactions (Ad Clicks)</th>\n",
       "      <th>Time on Live 360 (mins)</th>\n",
       "      <th>Real-Time Chat Activity (Messages Sent)</th>\n",
       "    </tr>\n",
       "  </thead>\n",
       "  <tbody>\n",
       "    <tr>\n",
       "      <th>0</th>\n",
       "      <td>U001</td>\n",
       "      <td>5</td>\n",
       "      <td>80</td>\n",
       "      <td>3</td>\n",
       "      <td>10</td>\n",
       "      <td>120</td>\n",
       "      <td>20</td>\n",
       "    </tr>\n",
       "    <tr>\n",
       "      <th>1</th>\n",
       "      <td>U002</td>\n",
       "      <td>8</td>\n",
       "      <td>60</td>\n",
       "      <td>1</td>\n",
       "      <td>8</td>\n",
       "      <td>100</td>\n",
       "      <td>35</td>\n",
       "    </tr>\n",
       "    <tr>\n",
       "      <th>2</th>\n",
       "      <td>U003</td>\n",
       "      <td>3</td>\n",
       "      <td>90</td>\n",
       "      <td>0</td>\n",
       "      <td>6</td>\n",
       "      <td>90</td>\n",
       "      <td>5</td>\n",
       "    </tr>\n",
       "    <tr>\n",
       "      <th>3</th>\n",
       "      <td>U004</td>\n",
       "      <td>7</td>\n",
       "      <td>70</td>\n",
       "      <td>2</td>\n",
       "      <td>15</td>\n",
       "      <td>140</td>\n",
       "      <td>40</td>\n",
       "    </tr>\n",
       "    <tr>\n",
       "      <th>4</th>\n",
       "      <td>U005</td>\n",
       "      <td>2</td>\n",
       "      <td>50</td>\n",
       "      <td>5</td>\n",
       "      <td>3</td>\n",
       "      <td>60</td>\n",
       "      <td>8</td>\n",
       "    </tr>\n",
       "    <tr>\n",
       "      <th>...</th>\n",
       "      <td>...</td>\n",
       "      <td>...</td>\n",
       "      <td>...</td>\n",
       "      <td>...</td>\n",
       "      <td>...</td>\n",
       "      <td>...</td>\n",
       "      <td>...</td>\n",
       "    </tr>\n",
       "    <tr>\n",
       "      <th>95</th>\n",
       "      <td>U096</td>\n",
       "      <td>8</td>\n",
       "      <td>86</td>\n",
       "      <td>6</td>\n",
       "      <td>14</td>\n",
       "      <td>98</td>\n",
       "      <td>22</td>\n",
       "    </tr>\n",
       "    <tr>\n",
       "      <th>96</th>\n",
       "      <td>U097</td>\n",
       "      <td>3</td>\n",
       "      <td>82</td>\n",
       "      <td>3</td>\n",
       "      <td>1</td>\n",
       "      <td>159</td>\n",
       "      <td>24</td>\n",
       "    </tr>\n",
       "    <tr>\n",
       "      <th>97</th>\n",
       "      <td>U098</td>\n",
       "      <td>1</td>\n",
       "      <td>91</td>\n",
       "      <td>1</td>\n",
       "      <td>9</td>\n",
       "      <td>92</td>\n",
       "      <td>34</td>\n",
       "    </tr>\n",
       "    <tr>\n",
       "      <th>98</th>\n",
       "      <td>U099</td>\n",
       "      <td>8</td>\n",
       "      <td>93</td>\n",
       "      <td>0</td>\n",
       "      <td>1</td>\n",
       "      <td>160</td>\n",
       "      <td>40</td>\n",
       "    </tr>\n",
       "    <tr>\n",
       "      <th>99</th>\n",
       "      <td>U100</td>\n",
       "      <td>3</td>\n",
       "      <td>73</td>\n",
       "      <td>3</td>\n",
       "      <td>16</td>\n",
       "      <td>82</td>\n",
       "      <td>29</td>\n",
       "    </tr>\n",
       "  </tbody>\n",
       "</table>\n",
       "<p>100 rows × 7 columns</p>\n",
       "</div>"
      ],
      "text/plain": [
       "   User ID  Fan Challenges Completed  Predictive Accuracy (%)  \\\n",
       "0     U001                         5                       80   \n",
       "1     U002                         8                       60   \n",
       "2     U003                         3                       90   \n",
       "3     U004                         7                       70   \n",
       "4     U005                         2                       50   \n",
       "..     ...                       ...                      ...   \n",
       "95    U096                         8                       86   \n",
       "96    U097                         3                       82   \n",
       "97    U098                         1                       91   \n",
       "98    U099                         8                       93   \n",
       "99    U100                         3                       73   \n",
       "\n",
       "    Virtual Merchandise Purchases  Sponsorship Interactions (Ad Clicks)  \\\n",
       "0                               3                                    10   \n",
       "1                               1                                     8   \n",
       "2                               0                                     6   \n",
       "3                               2                                    15   \n",
       "4                               5                                     3   \n",
       "..                            ...                                   ...   \n",
       "95                              6                                    14   \n",
       "96                              3                                     1   \n",
       "97                              1                                     9   \n",
       "98                              0                                     1   \n",
       "99                              3                                    16   \n",
       "\n",
       "    Time on Live 360 (mins)  Real-Time Chat Activity (Messages Sent)  \n",
       "0                       120                                       20  \n",
       "1                       100                                       35  \n",
       "2                        90                                        5  \n",
       "3                       140                                       40  \n",
       "4                        60                                        8  \n",
       "..                      ...                                      ...  \n",
       "95                       98                                       22  \n",
       "96                      159                                       24  \n",
       "97                       92                                       34  \n",
       "98                      160                                       40  \n",
       "99                       82                                       29  \n",
       "\n",
       "[100 rows x 7 columns]"
      ]
     },
     "execution_count": 122,
     "metadata": {},
     "output_type": "execute_result"
    }
   ],
   "source": [
    "V_City_df=pd.read_csv('2025-VeloCityX-Expanded-Fan-Engagement-Data.csv')\n",
    "V_City_df"
   ]
  },
  {
   "cell_type": "code",
   "execution_count": 123,
   "id": "7ef1e8d3-32d5-4323-a38d-78a7e9ce04db",
   "metadata": {},
   "outputs": [],
   "source": [
    "x1=V_City_df['User ID']\n",
    "x2=V_City_df['Fan Challenges Completed']\n",
    "x3=V_City_df['Predictive Accuracy (%)']\n",
    "x4=V_City_df['Virtual Merchandise Purchases']\n",
    "x5=V_City_df['Sponsorship Interactions (Ad Clicks)']\n",
    "x6=V_City_df['Time on Live 360 (mins)']\n",
    "x7=V_City_df['Real-Time Chat Activity (Messages Sent)']\n",
    "\n"
   ]
  },
  {
   "cell_type": "code",
   "execution_count": 124,
   "id": "171e5d60-cc58-4701-8f63-486d3285e986",
   "metadata": {},
   "outputs": [
    {
     "name": "stdout",
     "output_type": "stream",
     "text": [
      "coefficients \t [ 0.12406006  0.00542219  0.02985019 -0.00013911 -0.00938122]\n",
      "intercept \t 1.5389749901744378\n",
      "R^2 value \t 0.03723833366537599\n"
     ]
    }
   ],
   "source": [
    "#Virtual Merchandise Purchases\n",
    "\n",
    "X = np.array([x2,x3,x5,x6,x7]).T  #<-- reshape to an array of points\n",
    "\n",
    "w = x4\n",
    "\n",
    "# use sklearn tools for regression\n",
    "regression = LinearRegression()  # create object for the class\n",
    "regression.fit(X,w)  # perform linear regression\n",
    "model = regression.predict(X)  # make predictions\n",
    "\n",
    "print('coefficients \\t',regression.coef_)\n",
    "print('intercept \\t',regression.intercept_)\n",
    "print('R^2 value \\t',regression.score(X,w))\n",
    "#print('residuals \\n',w-model)\n",
    "\n",
    "#including all variables could give you a different result than including just 1 variable\n",
    "#higher R^2 value means better predicting power"
   ]
  },
  {
   "cell_type": "code",
   "execution_count": 63,
   "id": "afdf7f7b-6efb-43d0-8bd5-7116d0f089c1",
   "metadata": {},
   "outputs": [
    {
     "data": {
      "text/plain": [
       "<matplotlib.collections.PathCollection at 0x11e8bb6d0>"
      ]
     },
     "execution_count": 63,
     "metadata": {},
     "output_type": "execute_result"
    },
    {
     "data": {
      "image/png": "[encoded data removed]",
      "text/plain": [
       "<Figure size 640x480 with 1 Axes>"
      ]
     },
     "metadata": {},
     "output_type": "display_data"
    }
   ],
   "source": [
    "plt.scatter(x2, w)\n",
    "#plt.title(\"Predictive Accuracy (%) vs. Virtual Merchandise Purchases\")\n",
    "#plt.xlabel(\"Predictive Accuracy (%)\")\n",
    "#plt.ylabel(\"Virtual Merchandise Purchases\")"
   ]
  },
  {
   "cell_type": "code",
   "execution_count": 125,
   "id": "1777e76f-5c9d-42b9-820c-be971b7fba27",
   "metadata": {},
   "outputs": [
    {
     "name": "stdout",
     "output_type": "stream",
     "text": [
      "coefficients \t [-0.16884007  0.0239857   0.2750817  -0.0147364   0.08916026]\n",
      "intercept \t 6.797116468347591\n",
      "R^2 value \t 0.058972949551052145\n"
     ]
    }
   ],
   "source": [
    "#Sponsorship Interactions (Ad Clicks)\n",
    "\n",
    "\n",
    "E = np.array([x2,x3,x4,x6,x7]).T  #<-- reshape to an array of points\n",
    "\n",
    "y = x5\n",
    "\n",
    "# use sklearn tools for regression\n",
    "regression = LinearRegression()  # create object for the class\n",
    "regression.fit(E,y)  # perform linear regression\n",
    "model = regression.predict(E)  # make predictions\n",
    "\n",
    "print('coefficients \\t',regression.coef_)\n",
    "print('intercept \\t',regression.intercept_)\n",
    "print('R^2 value \\t',regression.score(E,y))\n",
    "#print('residuals \\n',w-model)\n",
    "\n",
    "#including all variables could give you a different result than including just 1 variable\n",
    "#higher R^2 value means better predicting power"
   ]
  },
  {
   "cell_type": "code",
   "execution_count": 61,
   "id": "1a15fa34-876e-47c0-a7a6-eb3d8ce84129",
   "metadata": {},
   "outputs": [
    {
     "data": {
      "text/plain": [
       "<matplotlib.collections.PathCollection at 0x11c7c6830>"
      ]
     },
     "execution_count": 61,
     "metadata": {},
     "output_type": "execute_result"
    },
    {
     "data": {
      "image/png": "[encoded data removed]",
      "text/plain": [
       "<Figure size 640x480 with 1 Axes>"
      ]
     },
     "metadata": {},
     "output_type": "display_data"
    }
   ],
   "source": [
    "plt.scatter(x4, y)"
   ]
  },
  {
   "cell_type": "code",
   "execution_count": 126,
   "id": "26dd56c9-f417-4189-9071-58a99998edf7",
   "metadata": {},
   "outputs": [
    {
     "data": {
      "image/png": "[encoded data removed]",
      "text/plain": [
       "<Figure size 640x480 with 1 Axes>"
      ]
     },
     "metadata": {},
     "output_type": "display_data"
    }
   ],
   "source": [
    "column_names=V_City_df.columns\n",
    "reduired_indices=[1,2,3,4,5,6]\n",
    "reuired_columns=[column_names[index] for index in reduired_indices]\n",
    "columns=V_City_df[reuired_columns]\n",
    "\n",
    "V_City_df2 = columns.dropna()\n",
    "\n",
    "#create scaled DataFrame where each variable has mean of 0 and standard dev of 1\n",
    "scaled_df = StandardScaler().fit_transform(V_City_df2)\n",
    "\n",
    "kmeans_kwargs = {\n",
    "\"init\": \"random\",\n",
    "\"n_init\": 10,\n",
    "\"random_state\": 1,\n",
    "}\n",
    "\n",
    "#create list to hold SSE values for each k\n",
    "sse = []\n",
    "for k in range(1, 11):\n",
    "    kmeans = KMeans(n_clusters=k, **kmeans_kwargs)\n",
    "    kmeans.fit(scaled_df)\n",
    "    sse.append(kmeans.inertia_)\n",
    "\n",
    "#visualize results\n",
    "plt.plot(range(1, 11), sse)\n",
    "plt.xticks(range(1, 11))\n",
    "plt.xlabel(\"Number of Clusters\")\n",
    "plt.ylabel(\"SSE\")\n",
    "plt.show()"
   ]
  },
  {
   "cell_type": "code",
   "execution_count": 127,
   "id": "19ca5a30-6265-4d3f-a591-887074d14173",
   "metadata": {},
   "outputs": [],
   "source": [
    "kmeans = KMeans(init=\"random\", n_clusters=7, n_init=10, random_state=1)\n",
    "\n",
    "#fit k-means algorithm to data\n",
    "kmeans.fit(V_City_df2)\n",
    "\n",
    "#view cluster assignments for each observation\n",
    "kmeans.labels_\n",
    "\n",
    "V_City_df['cluster'] = kmeans.labels_\n",
    "\n",
    "#view updated DataFrame\n",
    "#print(V_City_df)"
   ]
  },
  {
   "cell_type": "code",
   "execution_count": 156,
   "id": "d03c8172-c139-4b21-a0ba-61c23634a8dd",
   "metadata": {},
   "outputs": [
    {
     "data": {
      "text/html": [
       "<div>\n",
       "<style scoped>\n",
       "    .dataframe tbody tr th:only-of-type {\n",
       "        vertical-align: middle;\n",
       "    }\n",
       "\n",
       "    .dataframe tbody tr th {\n",
       "        vertical-align: top;\n",
       "    }\n",
       "\n",
       "    .dataframe thead th {\n",
       "        text-align: right;\n",
       "    }\n",
       "</style>\n",
       "<table border=\"1\" class=\"dataframe\">\n",
       "  <thead>\n",
       "    <tr style=\"text-align: right;\">\n",
       "      <th></th>\n",
       "      <th>User ID</th>\n",
       "      <th>Fan Challenges Completed</th>\n",
       "      <th>Predictive Accuracy (%)</th>\n",
       "      <th>Virtual Merchandise Purchases</th>\n",
       "      <th>Sponsorship Interactions (Ad Clicks)</th>\n",
       "      <th>Time on Live 360 (mins)</th>\n",
       "      <th>Real-Time Chat Activity (Messages Sent)</th>\n",
       "      <th>cluster</th>\n",
       "    </tr>\n",
       "  </thead>\n",
       "  <tbody>\n",
       "    <tr>\n",
       "      <th>2</th>\n",
       "      <td>U003</td>\n",
       "      <td>3</td>\n",
       "      <td>90</td>\n",
       "      <td>0</td>\n",
       "      <td>6</td>\n",
       "      <td>90</td>\n",
       "      <td>5</td>\n",
       "      <td>1</td>\n",
       "    </tr>\n",
       "    <tr>\n",
       "      <th>13</th>\n",
       "      <td>U014</td>\n",
       "      <td>5</td>\n",
       "      <td>91</td>\n",
       "      <td>0</td>\n",
       "      <td>15</td>\n",
       "      <td>98</td>\n",
       "      <td>33</td>\n",
       "      <td>1</td>\n",
       "    </tr>\n",
       "    <tr>\n",
       "      <th>14</th>\n",
       "      <td>U015</td>\n",
       "      <td>7</td>\n",
       "      <td>88</td>\n",
       "      <td>3</td>\n",
       "      <td>11</td>\n",
       "      <td>85</td>\n",
       "      <td>30</td>\n",
       "      <td>1</td>\n",
       "    </tr>\n",
       "    <tr>\n",
       "      <th>21</th>\n",
       "      <td>U022</td>\n",
       "      <td>8</td>\n",
       "      <td>83</td>\n",
       "      <td>5</td>\n",
       "      <td>15</td>\n",
       "      <td>95</td>\n",
       "      <td>3</td>\n",
       "      <td>1</td>\n",
       "    </tr>\n",
       "    <tr>\n",
       "      <th>22</th>\n",
       "      <td>U023</td>\n",
       "      <td>8</td>\n",
       "      <td>82</td>\n",
       "      <td>6</td>\n",
       "      <td>15</td>\n",
       "      <td>79</td>\n",
       "      <td>15</td>\n",
       "      <td>1</td>\n",
       "    </tr>\n",
       "    <tr>\n",
       "      <th>29</th>\n",
       "      <td>U030</td>\n",
       "      <td>2</td>\n",
       "      <td>89</td>\n",
       "      <td>2</td>\n",
       "      <td>7</td>\n",
       "      <td>91</td>\n",
       "      <td>26</td>\n",
       "      <td>1</td>\n",
       "    </tr>\n",
       "    <tr>\n",
       "      <th>52</th>\n",
       "      <td>U053</td>\n",
       "      <td>10</td>\n",
       "      <td>88</td>\n",
       "      <td>6</td>\n",
       "      <td>6</td>\n",
       "      <td>106</td>\n",
       "      <td>1</td>\n",
       "      <td>1</td>\n",
       "    </tr>\n",
       "    <tr>\n",
       "      <th>62</th>\n",
       "      <td>U063</td>\n",
       "      <td>4</td>\n",
       "      <td>92</td>\n",
       "      <td>0</td>\n",
       "      <td>12</td>\n",
       "      <td>78</td>\n",
       "      <td>25</td>\n",
       "      <td>1</td>\n",
       "    </tr>\n",
       "    <tr>\n",
       "      <th>76</th>\n",
       "      <td>U077</td>\n",
       "      <td>4</td>\n",
       "      <td>93</td>\n",
       "      <td>2</td>\n",
       "      <td>11</td>\n",
       "      <td>93</td>\n",
       "      <td>36</td>\n",
       "      <td>1</td>\n",
       "    </tr>\n",
       "    <tr>\n",
       "      <th>84</th>\n",
       "      <td>U085</td>\n",
       "      <td>8</td>\n",
       "      <td>82</td>\n",
       "      <td>0</td>\n",
       "      <td>2</td>\n",
       "      <td>75</td>\n",
       "      <td>17</td>\n",
       "      <td>1</td>\n",
       "    </tr>\n",
       "    <tr>\n",
       "      <th>90</th>\n",
       "      <td>U091</td>\n",
       "      <td>7</td>\n",
       "      <td>88</td>\n",
       "      <td>6</td>\n",
       "      <td>9</td>\n",
       "      <td>88</td>\n",
       "      <td>31</td>\n",
       "      <td>1</td>\n",
       "    </tr>\n",
       "    <tr>\n",
       "      <th>95</th>\n",
       "      <td>U096</td>\n",
       "      <td>8</td>\n",
       "      <td>86</td>\n",
       "      <td>6</td>\n",
       "      <td>14</td>\n",
       "      <td>98</td>\n",
       "      <td>22</td>\n",
       "      <td>1</td>\n",
       "    </tr>\n",
       "    <tr>\n",
       "      <th>97</th>\n",
       "      <td>U098</td>\n",
       "      <td>1</td>\n",
       "      <td>91</td>\n",
       "      <td>1</td>\n",
       "      <td>9</td>\n",
       "      <td>92</td>\n",
       "      <td>34</td>\n",
       "      <td>1</td>\n",
       "    </tr>\n",
       "  </tbody>\n",
       "</table>\n",
       "</div>"
      ],
      "text/plain": [
       "   User ID  Fan Challenges Completed  Predictive Accuracy (%)  \\\n",
       "2     U003                         3                       90   \n",
       "13    U014                         5                       91   \n",
       "14    U015                         7                       88   \n",
       "21    U022                         8                       83   \n",
       "22    U023                         8                       82   \n",
       "29    U030                         2                       89   \n",
       "52    U053                        10                       88   \n",
       "62    U063                         4                       92   \n",
       "76    U077                         4                       93   \n",
       "84    U085                         8                       82   \n",
       "90    U091                         7                       88   \n",
       "95    U096                         8                       86   \n",
       "97    U098                         1                       91   \n",
       "\n",
       "    Virtual Merchandise Purchases  Sponsorship Interactions (Ad Clicks)  \\\n",
       "2                               0                                     6   \n",
       "13                              0                                    15   \n",
       "14                              3                                    11   \n",
       "21                              5                                    15   \n",
       "22                              6                                    15   \n",
       "29                              2                                     7   \n",
       "52                              6                                     6   \n",
       "62                              0                                    12   \n",
       "76                              2                                    11   \n",
       "84                              0                                     2   \n",
       "90                              6                                     9   \n",
       "95                              6                                    14   \n",
       "97                              1                                     9   \n",
       "\n",
       "    Time on Live 360 (mins)  Real-Time Chat Activity (Messages Sent)  cluster  \n",
       "2                        90                                        5        1  \n",
       "13                       98                                       33        1  \n",
       "14                       85                                       30        1  \n",
       "21                       95                                        3        1  \n",
       "22                       79                                       15        1  \n",
       "29                       91                                       26        1  \n",
       "52                      106                                        1        1  \n",
       "62                       78                                       25        1  \n",
       "76                       93                                       36        1  \n",
       "84                       75                                       17        1  \n",
       "90                       88                                       31        1  \n",
       "95                       98                                       22        1  \n",
       "97                       92                                       34        1  "
      ]
     },
     "execution_count": 156,
     "metadata": {},
     "output_type": "execute_result"
    }
   ],
   "source": [
    "ex=V_City_df[V_City_df['cluster']==1]\n",
    "ex"
   ]
  },
  {
   "cell_type": "code",
   "execution_count": 157,
   "id": "6a04d62c-8435-47ff-962e-37faeca7d422",
   "metadata": {},
   "outputs": [
    {
     "name": "stdout",
     "output_type": "stream",
     "text": [
      "coefficients \t [ 0.42177736 -0.24730845  0.11688312  0.11328771  0.02948827]\n",
      "intercept \t 10.161069615310938\n",
      "R^2 value \t 0.6142258343073796\n"
     ]
    }
   ],
   "source": [
    "x1=ex['User ID']\n",
    "x2=ex['Fan Challenges Completed']\n",
    "x3=ex['Predictive Accuracy (%)']\n",
    "x4=ex['Virtual Merchandise Purchases']\n",
    "x5=ex['Sponsorship Interactions (Ad Clicks)']\n",
    "x6=ex['Time on Live 360 (mins)']\n",
    "x7=ex['Real-Time Chat Activity (Messages Sent)']\n",
    "\n",
    "E = np.array([x2,x3,x5,x6,x7]).T  #<-- reshape to an array of points\n",
    "\n",
    "y= x4 #Virtual Merchandise Purchases\n",
    "#y = x5 #Sponsorship Interactions (Ad Clicks)\n",
    "\n",
    "\n",
    "# use sklearn tools for regression\n",
    "regression = LinearRegression()  # create object for the class\n",
    "regression.fit(E,y)  # perform linear regression\n",
    "model = regression.predict(E)  # make predictions\n",
    "\n",
    "print('coefficients \\t',regression.coef_)\n",
    "print('intercept \\t',regression.intercept_)\n",
    "print('R^2 value \\t',regression.score(E,y))\n",
    "#print('residuals \\n',w-model)\n",
    "\n",
    "#including all variables could give you a different result than including just 1 variable\n",
    "#higher R^2 value means better predicting power"
   ]
  },
  {
   "cell_type": "code",
   "execution_count": 142,
   "id": "1ff4c499-866a-4a9c-bbe5-97687e593b81",
   "metadata": {},
   "outputs": [
    {
     "data": {
      "text/plain": [
       "<matplotlib.collections.PathCollection at 0x1201dcfa0>"
      ]
     },
     "execution_count": 142,
     "metadata": {},
     "output_type": "execute_result"
    },
    {
     "data": {
      "image/png": "[encoded data removed]",
      "text/plain": [
       "<Figure size 640x480 with 1 Axes>"
      ]
     },
     "metadata": {},
     "output_type": "display_data"
    }
   ],
   "source": [
    "plt.scatter(x3, y)"
   ]
  },
  {
   "cell_type": "code",
   "execution_count": null,
   "id": "8bcea3c0-657e-4d01-9196-bd5e01ad117c",
   "metadata": {},
   "outputs": [],
   "source": [
    "#y = x4, cluster =1 has r^2 of 0.61, x2 has slope 0.42\n",
    "#y= x5, cluster =0 has r^2 of 0.52, x3 has slope 0.65\n"
   ]
  },
  {
   "cell_type": "code",
   "execution_count": 158,
   "id": "97b31f12-7805-477e-8281-ffaddb2deb7f",
   "metadata": {},
   "outputs": [
    {
     "data": {
      "text/plain": [
       "<matplotlib.collections.PathCollection at 0x120288ac0>"
      ]
     },
     "execution_count": 158,
     "metadata": {},
     "output_type": "execute_result"
    },
    {
     "data": {
      "image/png": "[encoded data removed]",
      "text/plain": [
       "<Figure size 640x480 with 1 Axes>"
      ]
     },
     "metadata": {},
     "output_type": "display_data"
    }
   ],
   "source": [
    "plt.scatter(x2, y)"
   ]
  },
  {
   "cell_type": "code",
   "execution_count": null,
   "id": "8e6b0eda-db0a-43ce-9855-c148b6052ccb",
   "metadata": {},
   "outputs": [],
   "source": [
    "#Analysis\n",
    "'''\n",
    "There are several techniques that I used for this data set. I used regression to find any predictors on \n",
    "Virtual Merchandise Purchases and Sponsorship Interactions (Ad Clicks). Unfortuntely, I did not find a any good\n",
    "predictors for these variables. The predicting power (R^2) was very mininal as it never rose above 0.1, \n",
    "which indicates that the variables had very little correlation with the dependant variable. After the bad \n",
    "results from the regression, I tried K-clustering. This technique was new to me but I learned through the \n",
    "internet. Unfortunately, this test was not succesful as well. In K-Clustering, we need to find a 'optimal K'\n",
    "to find the correct number of clusters. To find this number, we do a test and plot it in a graph to find a\n",
    "bend or 'elbow'. In this test with this data, there was no clear elbow, meaning that either this isn't the \n",
    "correct test because there is 1 cluster or the magnitudes for the data are too different which can be greatly\n",
    "affected by the large magnitude data. I tried doing regression with k-clusters and found some results but\n",
    "I'm not confident in it because of the failure of k-clustering test. When testing Virtual Merchandise Purchases\n",
    "in cluster 1, there was an R^2 value of 0.61, which is decent predictive power. The variable\n",
    "that had an effect on this was Fan Challenges completed. When testing Sponsorship Interactions (Ad Clicks) \n",
    "in cluster 0, there was an R^2 value of 0.52. The variable that had an effect was Predictive Accuracy (%).\n",
    "\n",
    "Based on my results, I say that something is missing in this dataframe that we are not seeing the true behavior.\n",
    "If I had to improve the company based on this data, I would give these suggestions:\n",
    "\n",
    "1. Make the challenges easy for users to win more. This satisfaction will cause them to get themselves an award\n",
    "(merchandise)\n",
    "\n",
    "2. Promote interesting ads in the live stream and chat to engage users.\n",
    "\n",
    "3. Have broadcasters introduce ads or challenges to intice users. Also announce winners to intice users as well.\n",
    "\n",
    "\n",
    "\n",
    "'''"
   ]
  }
 ],
 "metadata": {
  "kernelspec": {
   "display_name": "Python 3 (ipykernel)",
   "language": "python",
   "name": "python3"
  },
  "language_info": {
   "codemirror_mode": {
    "name": "ipython",
    "version": 3
   },
   "file_extension": ".py",
   "mimetype": "text/x-python",
   "name": "python",
   "nbconvert_exporter": "python",
   "pygments_lexer": "ipython3",
   "version": "3.10.6"
  }
 },
 "nbformat": 4,
 "nbformat_minor": 5
}
